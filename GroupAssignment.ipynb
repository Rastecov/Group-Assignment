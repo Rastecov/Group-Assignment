{
 "cells": [
  {
   "cell_type": "code",
   "execution_count": 2,
   "id": "e34ac7d5-649b-4948-baaf-d17d6c048eb8",
   "metadata": {},
   "outputs": [
    {
     "name": "stdout",
     "output_type": "stream",
     "text": [
      "This is the second element 0.3\n",
      "This is the third element 0.75\n",
      "This is the last element 1.6\n",
      "This is the last element using the challenge 1.6\n"
     ]
    },
    {
     "data": {
      "text/plain": [
       "Aaron      65\n",
       "Lauren     24\n",
       "Joseph     49\n",
       "Mallory    32\n",
       "Eric       19\n",
       "Jeff       84\n",
       "dtype: int64"
      ]
     },
     "execution_count": 2,
     "metadata": {},
     "output_type": "execute_result"
    }
   ],
   "source": [
    "import pandas as pd\n",
    "# 1 create a regular Python list\n",
    "my_list = [0.1, 0.3, 0.75, 1.2, 1.6]\n",
    "\n",
    "# transform that list into a Series\n",
    "data = pd.Series(my_list)\n",
    "\n",
    "# 2 display the data in the series\n",
    "second=data.iloc[1]\n",
    "print(\"This is the second element \"+ str(second))\n",
    "third=data.iloc[2]\n",
    "print(\"This is the third element \"+ str(third))\n",
    "\n",
    "# 3 grab the last element of your Series\n",
    "last=data.iloc[4]\n",
    "print(\"This is the last element \"+ str(last))\n",
    "\n",
    "# 4 Challenge,\n",
    "last2= data.tail(1).values[0]\n",
    "print(\"This is the last element using the challenge \"+ str(last2))\n",
    "\n",
    "# 5 create a regular Python dictionnary\n",
    "myDictionary=  {'Aaron': 65,\n",
    "     'Lauren': 24,\n",
    "     'Joseph': 49,\n",
    "     'Mallory': 32,\n",
    "     'Eric': 19,\n",
    "     'Jeff': 84}\n",
    "\n",
    "# transform that my Dictionnary into a Series\n",
    "data2 = pd.Series(myDictionary)\n",
    "data2\n"
   ]
  },
  {
   "cell_type": "code",
   "execution_count": null,
   "id": "64126a25-6acc-449c-bf8e-f81f17601a1d",
   "metadata": {},
   "outputs": [],
   "source": []
  }
 ],
 "metadata": {
  "kernelspec": {
   "display_name": "Python 3 (ipykernel)",
   "language": "python",
   "name": "python3"
  },
  "language_info": {
   "codemirror_mode": {
    "name": "ipython",
    "version": 3
   },
   "file_extension": ".py",
   "mimetype": "text/x-python",
   "name": "python",
   "nbconvert_exporter": "python",
   "pygments_lexer": "ipython3",
   "version": "3.11.5"
  }
 },
 "nbformat": 4,
 "nbformat_minor": 5
}

people = {'Aaron': 65,
          'Lauren': 24,
          'Joseph': 49,
          'Mallory': 32,
          'Eric': 19,
          'Jeff': 84}

person = pd.Series(people)
#step 6 
print(person.loc['Lauren'])
print()
#step 7
print(person.loc['Joseph':])
print()
#step 8
print(person.iloc[2:])
print()

